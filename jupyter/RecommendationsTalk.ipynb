{
 "cells": [
  {
   "cell_type": "code",
   "execution_count": 1,
   "id": "c8761432",
   "metadata": {
    "slideshow": {
     "slide_type": "skip"
    }
   },
   "outputs": [],
   "source": [
    "# wegen dem Präsentations Tool Rise\n",
    "# https://rise.readthedocs.io/en/stable/"
   ]
  },
  {
   "cell_type": "markdown",
   "id": "823f3bdf",
   "metadata": {
    "slideshow": {
     "slide_type": "slide"
    }
   },
   "source": [
    "<div>\n",
    "    <div>\n",
    "        <h1>NLP based Recommender System for Plone</h1>\n",
    "        <strong>Jan Mevissen and Richard Braun</strong>\n",
    "    </div>\n",
    "</div>"
   ]
  },
  {
   "cell_type": "markdown",
   "id": "82927938",
   "metadata": {
    "slideshow": {
     "slide_type": "slide"
    }
   },
   "source": [
    "<div>\n",
    "    <h1>About us</h1>\n",
    "    <div style=\"display: flex; flex-align: row; justify-content: space-between; margin-top: 10px;\">\n",
    "        <ul>\n",
    "            <li>Interaktiv GmbH from Germany</li>\n",
    "            <li>We ♥ Plone and Scrum</li>\n",
    "        </ul>\n",
    "    </div>\n",
    "</div>"
   ]
  },
  {
   "cell_type": "markdown",
   "id": "b1287701",
   "metadata": {
    "slideshow": {
     "slide_type": "slide"
    }
   },
   "source": [
    "<div>\n",
    "    <h1>Overview</h1>\n",
    "    <p>Using NLP Libraries to build a Recommendation System for Plone/Volto.</p>\n",
    "    <ul>\n",
    "        <li>Natural Language Processing using scikit-learn</li>\n",
    "        <li>Demonstration in Plone/Volto</li>\n",
    "        <li>Prospects and future plans</li>\n",
    "    </ul>\n",
    "</div>"
   ]
  },
  {
   "cell_type": "code",
   "execution_count": 2,
   "id": "4f60485c",
   "metadata": {
    "slideshow": {
     "slide_type": "skip"
    }
   },
   "outputs": [
    {
     "ename": "ModuleNotFoundError",
     "evalue": "No module named 'matplotlib'",
     "output_type": "error",
     "traceback": [
      "\u001B[0;31m---------------------------------------------------------------------------\u001B[0m",
      "\u001B[0;31mModuleNotFoundError\u001B[0m                       Traceback (most recent call last)",
      "Cell \u001B[0;32mIn [2], line 2\u001B[0m\n\u001B[1;32m      1\u001B[0m \u001B[38;5;28;01mimport\u001B[39;00m \u001B[38;5;21;01mnumpy\u001B[39;00m \u001B[38;5;28;01mas\u001B[39;00m \u001B[38;5;21;01mnp\u001B[39;00m\n\u001B[0;32m----> 2\u001B[0m \u001B[38;5;28;01mimport\u001B[39;00m \u001B[38;5;21;01mmatplotlib\u001B[39;00m\u001B[38;5;21;01m.\u001B[39;00m\u001B[38;5;21;01mpyplot\u001B[39;00m \u001B[38;5;28;01mas\u001B[39;00m \u001B[38;5;21;01mplt\u001B[39;00m\n\u001B[1;32m      3\u001B[0m \u001B[38;5;28;01mfrom\u001B[39;00m \u001B[38;5;21;01mhelper\u001B[39;00m \u001B[38;5;28;01mimport\u001B[39;00m AngleAnnotation, plot_vectorizer_result\n\u001B[1;32m      4\u001B[0m \u001B[38;5;28;01mfrom\u001B[39;00m \u001B[38;5;21;01msklearn\u001B[39;00m\u001B[38;5;21;01m.\u001B[39;00m\u001B[38;5;21;01mfeature_extraction\u001B[39;00m\u001B[38;5;21;01m.\u001B[39;00m\u001B[38;5;21;01mtext\u001B[39;00m \u001B[38;5;28;01mimport\u001B[39;00m CountVectorizer\n",
      "\u001B[0;31mModuleNotFoundError\u001B[0m: No module named 'matplotlib'"
     ]
    }
   ],
   "source": [
    "import numpy as np\n",
    "import matplotlib.pyplot as plt\n",
    "from helper import AngleAnnotation, plot_vectorizer_result\n",
    "from sklearn.feature_extraction.text import CountVectorizer\n",
    "from sklearn.feature_extraction.text import TfidfVectorizer\n",
    "from IPython import display\n",
    "import pandas as pd\n",
    "import matplotlib.ticker as ticker\n",
    "from sklearn.neighbors import NearestNeighbors\n",
    "from IPython.display import Javascript\n",
    "from IPython.core.display import HTML\n",
    "from ipywidgets import widgets\n",
    "from IPython.display import Markdown\n"
   ]
  },
  {
   "cell_type": "markdown",
   "id": "dfdb2a81",
   "metadata": {
    "slideshow": {
     "slide_type": "slide"
    }
   },
   "source": [
    "<div>\n",
    "    <h1>Natural Language Processing using scikit-learn</h1>\n",
    "    <ul>\n",
    "      <li>scikit-learn is a open source machine Learning library for Python.</li>\n",
    "      <li>Example of using scikit-learn to calculate text similarities.</li>  \n",
    "    </ul>    \n",
    "</div>"
   ]
  },
  {
   "cell_type": "markdown",
   "id": "f5b04949",
   "metadata": {
    "slideshow": {
     "slide_type": "slide"
    }
   },
   "source": [
    "<h4>Starting Point: some \"known\" texts</h4>"
   ]
  },
  {
   "cell_type": "code",
   "execution_count": null,
   "id": "6f457072",
   "metadata": {
    "slideshow": {
     "slide_type": "-"
    }
   },
   "outputs": [],
   "source": [
    "text_a = 'The House is green. The House is nice. House is House'\n",
    "text_b = 'A green Frog is in the green House.'"
   ]
  },
  {
   "cell_type": "markdown",
   "id": "03b6c6b2",
   "metadata": {},
   "source": [
    "<h4>Goal: calculate the similarity to an \"unknown\" text</h4>"
   ]
  },
  {
   "cell_type": "code",
   "execution_count": null,
   "id": "a8d29977",
   "metadata": {},
   "outputs": [],
   "source": [
    "unknown_text = 'The green house on the street. The house is full.'"
   ]
  },
  {
   "cell_type": "markdown",
   "id": "efe3afe6",
   "metadata": {
    "slideshow": {
     "slide_type": "slide"
    }
   },
   "source": [
    "<h4>Vectorization</h4>\n",
    "\n",
    "<ul>\n",
    "  <li>Create a vocabulary of all unique words. (<b>\"Bag of Words\"</b>)</li>\n",
    "  <li>Use each word as a dimension of a vectorspace.</li>\n",
    "  <li>Transform the texts to vectors of this vectorspace.</li>\n",
    "  <li>Differences between the vectors can then be calculated.</li>  \n",
    "</ul>"
   ]
  },
  {
   "cell_type": "markdown",
   "id": "d3b12e93",
   "metadata": {
    "slideshow": {
     "slide_type": "slide"
    }
   },
   "source": [
    "<h4>CountVectorizer</h4>\n",
    "<p>Count the appearance of each word from the vocabulary</p>"
   ]
  },
  {
   "cell_type": "code",
   "execution_count": null,
   "id": "ace8e663",
   "metadata": {
    "slideshow": {
     "slide_type": "-"
    }
   },
   "outputs": [],
   "source": [
    "from sklearn.feature_extraction.text import CountVectorizer\n",
    "\n",
    "count_vectorizer = CountVectorizer()\n",
    "count_vectorizer.fit([text_a, text_b])\n",
    "\n",
    "vocabulary = sorted(list(count_vectorizer.get_feature_names_out()))\n",
    "print('Vocabulary:', sorted(vocabulary))"
   ]
  },
  {
   "cell_type": "code",
   "execution_count": null,
   "id": "ac215727",
   "metadata": {
    "slideshow": {
     "slide_type": "slide"
    }
   },
   "outputs": [],
   "source": [
    "plot_vectorizer_result(count_vectorizer, [text_a, text_b], tickspacing=1)"
   ]
  },
  {
   "cell_type": "markdown",
   "id": "eab191a0",
   "metadata": {
    "slideshow": {
     "slide_type": "skip"
    }
   },
   "source": [
    "<h4>TF-IDF Vectorizer</h4>\n",
    "\n",
    "<p>TF: <b>\"Term Frequency\"</b> is a measure of how often a Word occurs in a Text</p>\n",
    "<p style=\"text-align: center\">$\\textbf{Number of occurences of a word in a Text} \\over \\textbf{Number of Words in a Text}$</p>\n",
    "<p>IDF: <b>\"Inverse Document Frequency\"</b> a measure of the uniqueness of the Word</p>\n",
    "<p style=\"text-align: center\">$ \\log{\\frac{\\textbf{Number of all Texts}}{\\textbf{Number of all Texts containing the Word}}}$</p>\n",
    "\n"
   ]
  },
  {
   "cell_type": "markdown",
   "id": "694e0a3e",
   "metadata": {
    "slideshow": {
     "slide_type": "skip"
    }
   },
   "source": [
    "<h4>TF-IDF Vectorizer</h4>\n",
    "\n",
    "<p>TF x IDF: <b>\"Term Frequency\"</b> times <b>\"Inverse Document Frequency\"</b></p>"
   ]
  },
  {
   "cell_type": "code",
   "execution_count": null,
   "id": "31f76c25",
   "metadata": {
    "slideshow": {
     "slide_type": "skip"
    }
   },
   "outputs": [],
   "source": [
    "tfidf_vectorizer = TfidfVectorizer()\n",
    "tfidf_vectorizer.fit([text_a, text_b])\n",
    "\n",
    "vocabulary = sorted(list(tfidf_vectorizer.get_feature_names_out()))\n",
    "print('Vocabulary:', sorted(vocabulary))"
   ]
  },
  {
   "cell_type": "code",
   "execution_count": null,
   "id": "10526ec8",
   "metadata": {
    "scrolled": true,
    "slideshow": {
     "slide_type": "skip"
    }
   },
   "outputs": [],
   "source": [
    "plot_vectorizer_result(tfidf_vectorizer, [text_a, text_b], tickspacing=0.1)"
   ]
  },
  {
   "cell_type": "markdown",
   "id": "bd671541",
   "metadata": {
    "slideshow": {
     "slide_type": "skip"
    }
   },
   "source": [
    "<h4>Compare unknown text to known text</h4>\n",
    "<p>The Goal was to calculate the similarity to the \"unknown\" text</p>"
   ]
  },
  {
   "cell_type": "code",
   "execution_count": null,
   "id": "3bf9fd7d",
   "metadata": {
    "slideshow": {
     "slide_type": "skip"
    }
   },
   "outputs": [],
   "source": [
    "def plot_texts(text_a, text_b, unknown_text):\n",
    "    text_datas = [\n",
    "        ('text_a', text_a),\n",
    "        ('text_b', text_b),\n",
    "        ('unknown_text', unknown_text),\n",
    "    ]\n",
    "\n",
    "    table_md = '<table>'\n",
    "    table_md += '<tr><th>text</th><th>text value</th></tr>'\n",
    "\n",
    "    for text_name, text_value in text_datas:\n",
    "        table_md += f'<tr><td>{text_name}</td><td>{text_value}</td></tr>'\n",
    "\n",
    "    table_md += '</table>'\n",
    "\n",
    "    display.display(display.Markdown(table_md))"
   ]
  },
  {
   "cell_type": "code",
   "execution_count": null,
   "id": "b96088cb",
   "metadata": {
    "slideshow": {
     "slide_type": "skip"
    }
   },
   "outputs": [],
   "source": [
    "plot_texts(text_a, text_b, unknown_text)"
   ]
  },
  {
   "cell_type": "code",
   "execution_count": null,
   "id": "4ee83051",
   "metadata": {
    "slideshow": {
     "slide_type": "slide"
    }
   },
   "outputs": [],
   "source": [
    "plot_vectorizer_result(count_vectorizer, [text_a, text_b, unknown_text], tickspacing=1)"
   ]
  },
  {
   "cell_type": "markdown",
   "id": "3bb61a5a",
   "metadata": {
    "slideshow": {
     "slide_type": "slide"
    }
   },
   "source": [
    "<h4>Calculate text similarity using Nearest Neighbors</h4>\n",
    "<ul>\n",
    "  <li>The Nearest Neighbors module is a tool to get the most similar vectors from a list of known vectors.</li>\n",
    "  <li>Nearest Neighbors returns the list indices of the nearest known vectors and the distances to the unkown vectors.</li>\n",
    "</ul>    "
   ]
  },
  {
   "cell_type": "code",
   "execution_count": null,
   "id": "7cd0cd78",
   "metadata": {
    "slideshow": {
     "slide_type": "slide"
    }
   },
   "outputs": [],
   "source": [
    "from sklearn.neighbors import NearestNeighbors\n",
    "\n",
    "knn = NearestNeighbors(metric='cosine')\n",
    "known_vectors = count_vectorizer.transform([text_a, text_b])\n",
    "knn.fit(known_vectors)\n",
    "\n",
    "unknown_vectors = count_vectorizer.transform([unknown_text])\n",
    "distances, indexes = knn.kneighbors(unknown_vectors, n_neighbors=2)\n",
    "\n",
    "print('distance to text_a:', distances[0][0])\n",
    "print('distance to text_b:', distances[0][1])"
   ]
  },
  {
   "cell_type": "markdown",
   "id": "28995aa2",
   "metadata": {
    "slideshow": {
     "slide_type": "slide"
    }
   },
   "source": [
    "<div>\n",
    "    <h1>Implementation in Plone</h1>\n",
    "    <ul>\n",
    "        <li>Interaktiv.Recommendations is a Plone package</li>\n",
    "        <li>Available for Plone Classic and Volto</li>\n",
    "        <li>Provides a behavior, which can be added to the contenttype of your choice</li>\n",
    "    </ul>\n",
    "</div>\n"
   ]
  },
  {
   "cell_type": "markdown",
   "id": "613f3907",
   "metadata": {
    "slideshow": {
     "slide_type": "slide"
    }
   },
   "source": [
    "<div>\n",
    "    <h1>Future plans</h1>\n",
    "    <ul>\n",
    "        <li>Auto-Tagging</li>\n",
    "        <li>Dimensionality reduction\n",
    "        <ul>\n",
    "            <li>Part-of-speech-Filtering</li>\n",
    "            <li>Lemmatization</li>\n",
    "        </ul>\n",
    "        </li>\n",
    "    </ul>\n",
    "</div>"
   ]
  },
  {
   "cell_type": "markdown",
   "id": "cb84f183",
   "metadata": {
    "slideshow": {
     "slide_type": "slide"
    }
   },
   "source": [
    "<div>\n",
    "    <h1>Thanks for you attention</h1>\n",
    "    <div style=\"display: flex; flex-direction: row;\">\n",
    "        <div>\n",
    "            <p>Packages are available on Github:</p>\n",
    "            <ul>\n",
    "                <li><a href=\"https://github.com/interaktivgmbh/interaktiv.recommendations\">@interaktivgmbh/interaktiv.recommendations</a></li>\n",
    "                <li><a href=\"https://github.com/interaktivgmbh/volto-recommendations\">@interaktivgmbh/volto-recommendations</a></li>\n",
    "            </ul>\n",
    "        </div>\n",
    "    </div>\n",
    "</div>"
   ]
  },
  {
   "cell_type": "markdown",
   "id": "c85bf725",
   "metadata": {
    "slideshow": {
     "slide_type": "skip"
    }
   },
   "source": [
    "<div>\n",
    "    <h1>Sources/Tools</h1>\n",
    "    <ul>\n",
    "        <li>\n",
    "            <span>Jupyter Notebook: </span>\n",
    "            <a href=\"https://jupyter.org/\">https://jupyter.org/</a>\n",
    "        </li>\n",
    "        <li>\n",
    "            <span>scikit-learn: </span>\n",
    "            <a href=\"https://scikit-learn.org/stable/\">https://scikit-learn.org/</a>\n",
    "        </li>\n",
    "        <li>\n",
    "            <span>Plone: </span>\n",
    "            <a href=\"https://plone.org/\">https://plone.org/</a>\n",
    "        </li>\n",
    "        <li>\n",
    "            <span>Volto: </span>\n",
    "            <a href=\"https://github.com/plone/volto\">https://github.com/plone/volto</a>\n",
    "        </li>\n",
    "        <li>\n",
    "            <span>PyCharm: </span>\n",
    "            <a href=\"https://github.com/plone/volto\">https://github.com/plone/volto</a>\n",
    "        </li>\n",
    "    </ul>\n",
    "</div>"
   ]
  },
  {
   "cell_type": "code",
   "execution_count": null,
   "id": "a9ffcb36",
   "metadata": {
    "slideshow": {
     "slide_type": "skip"
    }
   },
   "outputs": [],
   "source": []
  }
 ],
 "metadata": {
  "celltoolbar": "Slideshow",
  "kernelspec": {
   "display_name": "Python 3 (ipykernel)",
   "language": "python",
   "name": "python3"
  },
  "language_info": {
   "codemirror_mode": {
    "name": "ipython",
    "version": 3
   },
   "file_extension": ".py",
   "mimetype": "text/x-python",
   "name": "python",
   "nbconvert_exporter": "python",
   "pygments_lexer": "ipython3",
   "version": "3.8.10"
  },
  "rise": {
   "footer": "<div class='footer'>Ploneconf 2022</div>",
   "header": "<div class='header'>Interaktiv Recommendations<span class='logo'></span></div>",
   "theme": "sky"
  }
 },
 "nbformat": 4,
 "nbformat_minor": 5
}
